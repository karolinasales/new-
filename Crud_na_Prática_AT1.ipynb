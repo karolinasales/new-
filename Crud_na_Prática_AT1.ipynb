{
  "nbformat": 4,
  "nbformat_minor": 0,
  "metadata": {
    "colab": {
      "provenance": [],
      "authorship_tag": "ABX9TyNtanSuT/8fYfZO7EbjJqO1",
      "include_colab_link": true
    },
    "kernelspec": {
      "name": "python3",
      "display_name": "Python 3"
    },
    "language_info": {
      "name": "python"
    }
  },
  "cells": [
    {
      "cell_type": "markdown",
      "metadata": {
        "id": "view-in-github",
        "colab_type": "text"
      },
      "source": [
        "<a href=\"https://colab.research.google.com/github/karolinasales/new-/blob/main/Crud_na_Pr%C3%A1tica_AT1.ipynb\" target=\"_parent\"><img src=\"https://colab.research.google.com/assets/colab-badge.svg\" alt=\"Open In Colab\"/></a>"
      ]
    },
    {
      "cell_type": "code",
      "source": [
        "#Cadastro de Oportunidade de Emprego \n",
        "#CRUD                      \n",
        "#Funcionalidade do PROJETO \n",
        "#1. Lstar todas as Vagas \n",
        "#2. Alterar todas as Vagas \n",
        "#3. Alterar Vagas \n",
        "#4. Deletar Vagaimport sqlite3 \n",
        " \n",
        "#Dupla: Karolina Regina Sales Feitosa & Vitória Neves de Oliveira \n",
        "#2° Módulo de DS\n",
        "#Email ETEPD:  krsf@etepd.com / vno@etepd.com \n",
        " \n",
        "\n",
        "class Oportunidade():\n",
        "  def _init_(self, titulo_vaga, cargo, salario, data_inicio, empresa, descricao_vaga, status):\n",
        "    self.titulo_vaga = titulo_vaga\n",
        "    self.cargo = cargo\n",
        "    self.salario = salario \n",
        "    self.data_inicio = data_inicio  \n",
        "    self.empresa = empresa\n",
        "    self.descricao_vaga = descricao_vaga \n",
        "    self.status = status  \n",
        "\n",
        "empregado = Oportunidade ('Desenvolvedor', 'Blockchain', 'noveK','september2022', 'google', 'smartConcrats','Estudando') \n",
        "banco = sqlite3.connect('banco_teste.db')\n",
        "def criarTabela():\n",
        "    cursor = banco.cursor()\n",
        "    conn.execute(\"\"\"CREATE TABLE vagas(\n",
        "    titulo vaga text, salario text, data de criação date, empresa text,\n",
        "    cargo text, driscrição long text, status \"\"\")\n",
        "\n",
        "def add_vaga(vaga):\n",
        "    conn.execute(\"insert into vaga(vaga, atualizado) values (?, 0)\", (vaga))\n",
        "    conn.commit()\n",
        "\n",
        "def remover_tarefa(cd_vaga):\n",
        "    conn.execute(\"delete from vaga where cd_vaga = ?\", (cd_vaga))\n",
        "    conn.commit()\n",
        "\n",
        "def updateVaga(cd_vaga):\n",
        "  conn.execute(\"uptade vaga set atualizado = 1 where cd_vaga = ?\", (cd_vaga))\n",
        "  conn.commit()\n",
        "\n",
        "def get_tarefas(): \n",
        "    return conn.execute(\"retorna a tabela\")"
      ],
      "metadata": {
        "colab": {
          "base_uri": "https://localhost:8080/",
          "height": 237
        },
        "id": "ZV9C_px2IIVF",
        "outputId": "bbc50604-8f43-425f-e73a-4e97469655bd"
      },
      "execution_count": 15,
      "outputs": [
        {
          "output_type": "error",
          "ename": "TypeError",
          "evalue": "ignored",
          "traceback": [
            "\u001b[0;31m---------------------------------------------------------------------------\u001b[0m",
            "\u001b[0;31mTypeError\u001b[0m                                 Traceback (most recent call last)",
            "\u001b[0;32m<ipython-input-15-a00c47ce829a>\u001b[0m in \u001b[0;36m<module>\u001b[0;34m\u001b[0m\n\u001b[1;32m     22\u001b[0m     \u001b[0mself\u001b[0m\u001b[0;34m.\u001b[0m\u001b[0mstatus\u001b[0m \u001b[0;34m=\u001b[0m \u001b[0mstatus\u001b[0m\u001b[0;34m\u001b[0m\u001b[0;34m\u001b[0m\u001b[0m\n\u001b[1;32m     23\u001b[0m \u001b[0;34m\u001b[0m\u001b[0m\n\u001b[0;32m---> 24\u001b[0;31m \u001b[0mempregado\u001b[0m \u001b[0;34m=\u001b[0m \u001b[0mOportunidade\u001b[0m \u001b[0;34m(\u001b[0m\u001b[0;34m'Desenvolvedor'\u001b[0m\u001b[0;34m,\u001b[0m \u001b[0;34m'Blockchain'\u001b[0m\u001b[0;34m,\u001b[0m \u001b[0;34m'noveK'\u001b[0m\u001b[0;34m,\u001b[0m\u001b[0;34m'september2022'\u001b[0m\u001b[0;34m,\u001b[0m \u001b[0;34m'google'\u001b[0m\u001b[0;34m,\u001b[0m \u001b[0;34m'smartConcrats'\u001b[0m\u001b[0;34m,\u001b[0m\u001b[0;34m'Estudando'\u001b[0m\u001b[0;34m)\u001b[0m\u001b[0;34m\u001b[0m\u001b[0;34m\u001b[0m\u001b[0m\n\u001b[0m\u001b[1;32m     25\u001b[0m \u001b[0mbanco\u001b[0m \u001b[0;34m=\u001b[0m \u001b[0msqlite3\u001b[0m\u001b[0;34m.\u001b[0m\u001b[0mconnect\u001b[0m\u001b[0;34m(\u001b[0m\u001b[0;34m'banco_teste.db'\u001b[0m\u001b[0;34m)\u001b[0m\u001b[0;34m\u001b[0m\u001b[0;34m\u001b[0m\u001b[0m\n\u001b[1;32m     26\u001b[0m \u001b[0;32mdef\u001b[0m \u001b[0mcriarTabela\u001b[0m\u001b[0;34m(\u001b[0m\u001b[0;34m)\u001b[0m\u001b[0;34m:\u001b[0m\u001b[0;34m\u001b[0m\u001b[0;34m\u001b[0m\u001b[0m\n",
            "\u001b[0;31mTypeError\u001b[0m: Oportunidade() takes no arguments"
          ]
        }
      ]
    },
    {
      "cell_type": "code",
      "source": [],
      "metadata": {
        "id": "xCrNm1aZHfH2"
      },
      "execution_count": null,
      "outputs": []
    }
  ]
}